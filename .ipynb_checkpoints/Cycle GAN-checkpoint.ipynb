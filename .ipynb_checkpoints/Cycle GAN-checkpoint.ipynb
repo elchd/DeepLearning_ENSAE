{
 "cells": [
  {
   "cell_type": "code",
   "execution_count": 19,
   "metadata": {},
   "outputs": [],
   "source": [
    "import h5py\n",
    "import numpy as np\n",
    "import tensorflow as tf"
   ]
  },
  {
   "cell_type": "code",
   "execution_count": 20,
   "metadata": {},
   "outputs": [],
   "source": [
    "filename = \"Data/usps.h5\"\n",
    "f = h5py.File(filename, 'r+')\n",
    "\n",
    "usps = f['train']\n",
    "\n",
    "usps_images = np.array(usps['data'])\n",
    "usps_labels = np.array(usps['target'])\n",
    "\n",
    "usps_images = usps_images.reshape(usps_images.shape[0], 16, 16, 1).astype('float32')\n",
    "\n",
    "BUFFER_SIZE = len(usps_images)\n",
    "BATCH_SIZE = 256\n",
    "\n",
    "usps_dataset = tf.data.Dataset.from_tensor_slices(usps_images).shuffle(BUFFER_SIZE).batch(BATCH_SIZE)"
   ]
  },
  {
   "cell_type": "code",
   "execution_count": 21,
   "metadata": {},
   "outputs": [],
   "source": [
    "(mnist_images, mnist_labels), (_, _) = tf.keras.datasets.mnist.load_data()\n",
    "\n",
    "mnist_images = mnist_images.reshape(mnist_images.shape[0], 28, 28, 1).astype('float32')\n",
    "mnist_images = (mnist_images - 127.5) / 127.5 # Normalize the images to [-1, 1]\n",
    "\n",
    "BUFFER_SIZE = len(mnist_images)\n",
    "BATCH_SIZE = 256\n",
    "\n",
    "mnist_dataset = tf.data.Dataset.from_tensor_slices(mnist_images).shuffle(BUFFER_SIZE).batch(BATCH_SIZE)"
   ]
  }
 ],
 "metadata": {
  "kernelspec": {
   "display_name": "Python 3",
   "language": "python",
   "name": "python3"
  },
  "language_info": {
   "codemirror_mode": {
    "name": "ipython",
    "version": 3
   },
   "file_extension": ".py",
   "mimetype": "text/x-python",
   "name": "python",
   "nbconvert_exporter": "python",
   "pygments_lexer": "ipython3",
   "version": "3.7.4"
  }
 },
 "nbformat": 4,
 "nbformat_minor": 2
}
